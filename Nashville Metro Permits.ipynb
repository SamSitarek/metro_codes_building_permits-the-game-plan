{
 "cells": [
  {
   "cell_type": "code",
   "execution_count": 4,
   "id": "1a13fd3c",
   "metadata": {},
   "outputs": [],
   "source": [
    "import pandas as pd\n",
    "import matplotlib.pyplot as plt\n",
    "import seaborn as sns\n",
    "\n",
    "%matplotlib inline"
   ]
  },
  {
   "cell_type": "markdown",
   "id": "ac056f8b",
   "metadata": {},
   "source": [
    "one for case type, one for across all depts - mean, median"
   ]
  },
  {
   "cell_type": "code",
   "execution_count": 5,
   "id": "da4ab7f6",
   "metadata": {},
   "outputs": [
    {
     "name": "stderr",
     "output_type": "stream",
     "text": [
      "C:\\Users\\rache\\anaconda3\\lib\\site-packages\\IPython\\core\\interactiveshell.py:3165: DtypeWarning: Columns (0) have mixed types.Specify dtype option on import or set low_memory=False.\n",
      "  has_raised = await self.run_ast_nodes(code_ast.body, cell_name,\n"
     ]
    }
   ],
   "source": [
    "ca = pd.read_csv('../Data/Initiated Building Permits (CA Tasks).csv',\n",
    "                 parse_dates=['Date_Initiated','Date_Issued','Task_Complete_Date'])\n",
    "fr = pd.read_csv('../Data/Initiated Building Permits (FR Tasks).csv',\n",
    "                 parse_dates=['Date_Initiated','Date_Issued','Task_Complete_Date'])\n",
    "pl = pd.read_csv('../Data/Initiated Building Permits (PL Tasks).csv',\n",
    "                 parse_dates=['Date_Initiated','Date_Issued','Task_Complete_Date'])\n",
    "pw = pd.read_csv('../Data/Initiated Building Permits (PW Tasks).csv',\n",
    "                 parse_dates=['Date_Initiated','Date_Issued','Task_Complete_Date'])\n",
    "sw = pd.read_csv('../Data/Initiated Building Permits (SW Tasks).csv',\n",
    "                 parse_dates=['Date_Initiated','Date_Issued','Task_Complete_Date'])\n",
    "ws = pd.read_csv('../Data/Initiated Building Permits (WS Tasks).csv',\n",
    "                 parse_dates=['Date_Initiated','Date_Issued','Task_Complete_Date'])\n",
    "u_o = pd.read_csv('../Data/Initiated Building Permits U&O.csv',\n",
    "                 parse_dates=['Date_Initiated','Date_Issued','Temp U&O Complete Date','Final U&O Complete Date'])\n",
    "yr3 = pd.read_csv('../Data/Initiated Building Permits 3y.csv',\n",
    "                 parse_dates=['Date_Initiated','Date_Issued'])"
   ]
  },
  {
   "cell_type": "code",
   "execution_count": 6,
   "id": "1843d8b7",
   "metadata": {},
   "outputs": [
    {
     "data": {
      "text/html": [
       "<div>\n",
       "<style scoped>\n",
       "    .dataframe tbody tr th:only-of-type {\n",
       "        vertical-align: middle;\n",
       "    }\n",
       "\n",
       "    .dataframe tbody tr th {\n",
       "        vertical-align: top;\n",
       "    }\n",
       "\n",
       "    .dataframe thead th {\n",
       "        text-align: right;\n",
       "    }\n",
       "</style>\n",
       "<table border=\"1\" class=\"dataframe\">\n",
       "  <thead>\n",
       "    <tr style=\"text-align: right;\">\n",
       "      <th></th>\n",
       "      <th>PERMIT #</th>\n",
       "      <th>CASE_TYPE</th>\n",
       "      <th>CASE_TYPE_DESC</th>\n",
       "      <th>SUB_TYPE</th>\n",
       "      <th>SUB_TYPE_DESC</th>\n",
       "      <th>CONSTRUCTION COST</th>\n",
       "      <th>Square Footage</th>\n",
       "      <th>STATUS_CODE</th>\n",
       "      <th>Date_Initiated</th>\n",
       "      <th>Date_Issued</th>\n",
       "      <th>TASK_CODE</th>\n",
       "      <th>TASK_DESC</th>\n",
       "      <th>RESULT_CODE</th>\n",
       "      <th>RESULT_DESC</th>\n",
       "      <th>Task_Complete_Date</th>\n",
       "    </tr>\n",
       "  </thead>\n",
       "  <tbody>\n",
       "    <tr>\n",
       "      <th>0</th>\n",
       "      <td>2020011891</td>\n",
       "      <td>CARA</td>\n",
       "      <td>Building Residential - Addition</td>\n",
       "      <td>CAA01R301</td>\n",
       "      <td>Single Family Residence</td>\n",
       "      <td>25936.0</td>\n",
       "      <td>1236.0</td>\n",
       "      <td>OPEN</td>\n",
       "      <td>2020-02-24</td>\n",
       "      <td>NaT</td>\n",
       "      <td>SWGRADE</td>\n",
       "      <td>[D]  Grading Plan Review For Bldg App</td>\n",
       "      <td>APPROVED</td>\n",
       "      <td>Approved</td>\n",
       "      <td>2020-02-25</td>\n",
       "    </tr>\n",
       "    <tr>\n",
       "      <th>1</th>\n",
       "      <td>2020011891</td>\n",
       "      <td>CARA</td>\n",
       "      <td>Building Residential - Addition</td>\n",
       "      <td>CAA01R301</td>\n",
       "      <td>Single Family Residence</td>\n",
       "      <td>25936.0</td>\n",
       "      <td>1236.0</td>\n",
       "      <td>OPEN</td>\n",
       "      <td>2020-02-24</td>\n",
       "      <td>NaT</td>\n",
       "      <td>SWFLDPLN</td>\n",
       "      <td>[C]  Flood Plain Review On Blgd App</td>\n",
       "      <td>IGNORE</td>\n",
       "      <td>No sign-off needed on this project</td>\n",
       "      <td>2020-02-25</td>\n",
       "    </tr>\n",
       "    <tr>\n",
       "      <th>2</th>\n",
       "      <td>T2018000041</td>\n",
       "      <td>CACA</td>\n",
       "      <td>Building Commercial - Addition</td>\n",
       "      <td>ADDITION</td>\n",
       "      <td>Addition</td>\n",
       "      <td>33670.0</td>\n",
       "      <td>0.0</td>\n",
       "      <td>DONE</td>\n",
       "      <td>2018-01-02</td>\n",
       "      <td>NaT</td>\n",
       "      <td>SWGRADE</td>\n",
       "      <td>[D]  Grading Plan Review For Bldg App</td>\n",
       "      <td>APPROVED</td>\n",
       "      <td>Approved</td>\n",
       "      <td>2018-02-08</td>\n",
       "    </tr>\n",
       "    <tr>\n",
       "      <th>3</th>\n",
       "      <td>T2018000041</td>\n",
       "      <td>CACA</td>\n",
       "      <td>Building Commercial - Addition</td>\n",
       "      <td>ADDITION</td>\n",
       "      <td>Addition</td>\n",
       "      <td>33670.0</td>\n",
       "      <td>0.0</td>\n",
       "      <td>DONE</td>\n",
       "      <td>2018-01-02</td>\n",
       "      <td>NaT</td>\n",
       "      <td>SWFLDPLN</td>\n",
       "      <td>[C]  Flood Plain Review On Blgd App</td>\n",
       "      <td>IGNORE</td>\n",
       "      <td>No sign-off needed on this project</td>\n",
       "      <td>2018-02-08</td>\n",
       "    </tr>\n",
       "    <tr>\n",
       "      <th>4</th>\n",
       "      <td>T2018000649</td>\n",
       "      <td>CARN</td>\n",
       "      <td>Building Residential - New</td>\n",
       "      <td>CAA01R301</td>\n",
       "      <td>Single Family Residence</td>\n",
       "      <td>252865.7</td>\n",
       "      <td>2450.0</td>\n",
       "      <td>DONE</td>\n",
       "      <td>2018-01-04</td>\n",
       "      <td>NaT</td>\n",
       "      <td>SWGRADE</td>\n",
       "      <td>[D]  Grading Plan Review For Bldg App</td>\n",
       "      <td>REJECTED</td>\n",
       "      <td>Rejected</td>\n",
       "      <td>2018-01-04</td>\n",
       "    </tr>\n",
       "  </tbody>\n",
       "</table>\n",
       "</div>"
      ],
      "text/plain": [
       "      PERMIT # CASE_TYPE                   CASE_TYPE_DESC   SUB_TYPE  \\\n",
       "0   2020011891      CARA  Building Residential - Addition  CAA01R301   \n",
       "1   2020011891      CARA  Building Residential - Addition  CAA01R301   \n",
       "2  T2018000041      CACA   Building Commercial - Addition   ADDITION   \n",
       "3  T2018000041      CACA   Building Commercial - Addition   ADDITION   \n",
       "4  T2018000649      CARN       Building Residential - New  CAA01R301   \n",
       "\n",
       "             SUB_TYPE_DESC  CONSTRUCTION COST  Square Footage STATUS_CODE  \\\n",
       "0  Single Family Residence            25936.0          1236.0        OPEN   \n",
       "1  Single Family Residence            25936.0          1236.0        OPEN   \n",
       "2                 Addition            33670.0             0.0        DONE   \n",
       "3                 Addition            33670.0             0.0        DONE   \n",
       "4  Single Family Residence           252865.7          2450.0        DONE   \n",
       "\n",
       "  Date_Initiated Date_Issued TASK_CODE                              TASK_DESC  \\\n",
       "0     2020-02-24         NaT   SWGRADE  [D]  Grading Plan Review For Bldg App   \n",
       "1     2020-02-24         NaT  SWFLDPLN    [C]  Flood Plain Review On Blgd App   \n",
       "2     2018-01-02         NaT   SWGRADE  [D]  Grading Plan Review For Bldg App   \n",
       "3     2018-01-02         NaT  SWFLDPLN    [C]  Flood Plain Review On Blgd App   \n",
       "4     2018-01-04         NaT   SWGRADE  [D]  Grading Plan Review For Bldg App   \n",
       "\n",
       "  RESULT_CODE                         RESULT_DESC Task_Complete_Date  \n",
       "0    APPROVED                            Approved         2020-02-25  \n",
       "1      IGNORE  No sign-off needed on this project         2020-02-25  \n",
       "2    APPROVED                            Approved         2018-02-08  \n",
       "3      IGNORE  No sign-off needed on this project         2018-02-08  \n",
       "4    REJECTED                            Rejected         2018-01-04  "
      ]
     },
     "execution_count": 6,
     "metadata": {},
     "output_type": "execute_result"
    }
   ],
   "source": [
    "sw.head()"
   ]
  },
  {
   "cell_type": "code",
   "execution_count": 7,
   "id": "d697c785",
   "metadata": {},
   "outputs": [
    {
     "data": {
      "text/html": [
       "<div>\n",
       "<style scoped>\n",
       "    .dataframe tbody tr th:only-of-type {\n",
       "        vertical-align: middle;\n",
       "    }\n",
       "\n",
       "    .dataframe tbody tr th {\n",
       "        vertical-align: top;\n",
       "    }\n",
       "\n",
       "    .dataframe thead th {\n",
       "        text-align: right;\n",
       "    }\n",
       "</style>\n",
       "<table border=\"1\" class=\"dataframe\">\n",
       "  <thead>\n",
       "    <tr style=\"text-align: right;\">\n",
       "      <th></th>\n",
       "      <th>PERMIT #</th>\n",
       "      <th>CASE_TYPE</th>\n",
       "      <th>CASE_TYPE_DESC</th>\n",
       "      <th>SUB_TYPE</th>\n",
       "      <th>SUB_TYPE_DESC</th>\n",
       "      <th>CONSTRUCTION COST</th>\n",
       "      <th>Square Footage</th>\n",
       "      <th>STATUS_CODE</th>\n",
       "      <th>Date_Initiated</th>\n",
       "      <th>Date_Issued</th>\n",
       "      <th>TASK_CODE</th>\n",
       "      <th>TASK_DESC</th>\n",
       "      <th>RESULT_CODE</th>\n",
       "      <th>RESULT_DESC</th>\n",
       "      <th>Task_Complete_Date</th>\n",
       "    </tr>\n",
       "  </thead>\n",
       "  <tbody>\n",
       "    <tr>\n",
       "      <th>46097</th>\n",
       "      <td>2020068782</td>\n",
       "      <td>CARN</td>\n",
       "      <td>Building Residential - New</td>\n",
       "      <td>CAA14U009</td>\n",
       "      <td>Accessory Structure, Garage</td>\n",
       "      <td>43904.70</td>\n",
       "      <td>909.0</td>\n",
       "      <td>ISSUE</td>\n",
       "      <td>2020-11-02</td>\n",
       "      <td>2021-05-28</td>\n",
       "      <td>SWGRADE</td>\n",
       "      <td>[D]  Grading Plan Review For Bldg App</td>\n",
       "      <td>COND</td>\n",
       "      <td>Approved with Comments</td>\n",
       "      <td>2020-11-04</td>\n",
       "    </tr>\n",
       "    <tr>\n",
       "      <th>46098</th>\n",
       "      <td>2020070844</td>\n",
       "      <td>CARN</td>\n",
       "      <td>Building Residential - New</td>\n",
       "      <td>CAA01R301</td>\n",
       "      <td>Single Family Residence</td>\n",
       "      <td>160279.28</td>\n",
       "      <td>1322.0</td>\n",
       "      <td>ISSUE</td>\n",
       "      <td>2020-11-11</td>\n",
       "      <td>2021-05-29</td>\n",
       "      <td>SWGRADE</td>\n",
       "      <td>[D]  Grading Plan Review For Bldg App</td>\n",
       "      <td>COND</td>\n",
       "      <td>Approved with Comments</td>\n",
       "      <td>2020-12-11</td>\n",
       "    </tr>\n",
       "    <tr>\n",
       "      <th>46099</th>\n",
       "      <td>2020070844</td>\n",
       "      <td>CARN</td>\n",
       "      <td>Building Residential - New</td>\n",
       "      <td>CAA01R301</td>\n",
       "      <td>Single Family Residence</td>\n",
       "      <td>160279.28</td>\n",
       "      <td>1322.0</td>\n",
       "      <td>ISSUE</td>\n",
       "      <td>2020-11-11</td>\n",
       "      <td>2021-05-29</td>\n",
       "      <td>SWFLDPLN</td>\n",
       "      <td>[C]  Flood Plain Review On Blgd App</td>\n",
       "      <td>IGNORE</td>\n",
       "      <td>No sign-off needed on this project</td>\n",
       "      <td>2020-12-01</td>\n",
       "    </tr>\n",
       "    <tr>\n",
       "      <th>46100</th>\n",
       "      <td>2020070845</td>\n",
       "      <td>CARN</td>\n",
       "      <td>Building Residential - New</td>\n",
       "      <td>CAA01R301</td>\n",
       "      <td>Single Family Residence</td>\n",
       "      <td>160279.28</td>\n",
       "      <td>1322.0</td>\n",
       "      <td>ISSUE</td>\n",
       "      <td>2020-11-11</td>\n",
       "      <td>2021-05-29</td>\n",
       "      <td>SWGRADE</td>\n",
       "      <td>[D]  Grading Plan Review For Bldg App</td>\n",
       "      <td>COND</td>\n",
       "      <td>Approved with Comments</td>\n",
       "      <td>2020-12-11</td>\n",
       "    </tr>\n",
       "    <tr>\n",
       "      <th>46101</th>\n",
       "      <td>2020070845</td>\n",
       "      <td>CARN</td>\n",
       "      <td>Building Residential - New</td>\n",
       "      <td>CAA01R301</td>\n",
       "      <td>Single Family Residence</td>\n",
       "      <td>160279.28</td>\n",
       "      <td>1322.0</td>\n",
       "      <td>ISSUE</td>\n",
       "      <td>2020-11-11</td>\n",
       "      <td>2021-05-29</td>\n",
       "      <td>SWFLDPLN</td>\n",
       "      <td>[C]  Flood Plain Review On Blgd App</td>\n",
       "      <td>IGNORE</td>\n",
       "      <td>No sign-off needed on this project</td>\n",
       "      <td>2020-12-01</td>\n",
       "    </tr>\n",
       "  </tbody>\n",
       "</table>\n",
       "</div>"
      ],
      "text/plain": [
       "         PERMIT # CASE_TYPE              CASE_TYPE_DESC   SUB_TYPE  \\\n",
       "46097  2020068782      CARN  Building Residential - New  CAA14U009   \n",
       "46098  2020070844      CARN  Building Residential - New  CAA01R301   \n",
       "46099  2020070844      CARN  Building Residential - New  CAA01R301   \n",
       "46100  2020070845      CARN  Building Residential - New  CAA01R301   \n",
       "46101  2020070845      CARN  Building Residential - New  CAA01R301   \n",
       "\n",
       "                     SUB_TYPE_DESC  CONSTRUCTION COST  Square Footage  \\\n",
       "46097  Accessory Structure, Garage           43904.70           909.0   \n",
       "46098      Single Family Residence          160279.28          1322.0   \n",
       "46099      Single Family Residence          160279.28          1322.0   \n",
       "46100      Single Family Residence          160279.28          1322.0   \n",
       "46101      Single Family Residence          160279.28          1322.0   \n",
       "\n",
       "      STATUS_CODE Date_Initiated Date_Issued TASK_CODE  \\\n",
       "46097       ISSUE     2020-11-02  2021-05-28   SWGRADE   \n",
       "46098       ISSUE     2020-11-11  2021-05-29   SWGRADE   \n",
       "46099       ISSUE     2020-11-11  2021-05-29  SWFLDPLN   \n",
       "46100       ISSUE     2020-11-11  2021-05-29   SWGRADE   \n",
       "46101       ISSUE     2020-11-11  2021-05-29  SWFLDPLN   \n",
       "\n",
       "                                   TASK_DESC RESULT_CODE  \\\n",
       "46097  [D]  Grading Plan Review For Bldg App        COND   \n",
       "46098  [D]  Grading Plan Review For Bldg App        COND   \n",
       "46099    [C]  Flood Plain Review On Blgd App      IGNORE   \n",
       "46100  [D]  Grading Plan Review For Bldg App        COND   \n",
       "46101    [C]  Flood Plain Review On Blgd App      IGNORE   \n",
       "\n",
       "                              RESULT_DESC Task_Complete_Date  \n",
       "46097              Approved with Comments         2020-11-04  \n",
       "46098              Approved with Comments         2020-12-11  \n",
       "46099  No sign-off needed on this project         2020-12-01  \n",
       "46100              Approved with Comments         2020-12-11  \n",
       "46101  No sign-off needed on this project         2020-12-01  "
      ]
     },
     "execution_count": 7,
     "metadata": {},
     "output_type": "execute_result"
    }
   ],
   "source": [
    "sw.tail()"
   ]
  },
  {
   "cell_type": "code",
   "execution_count": 9,
   "id": "02bb0078",
   "metadata": {
    "scrolled": true
   },
   "outputs": [
    {
     "name": "stdout",
     "output_type": "stream",
     "text": [
      "<class 'pandas.core.frame.DataFrame'>\n",
      "RangeIndex: 14160 entries, 0 to 14159\n",
      "Data columns (total 12 columns):\n",
      " #   Column                   Non-Null Count  Dtype         \n",
      "---  ------                   --------------  -----         \n",
      " 0   PERMIT #                 14160 non-null  int64         \n",
      " 1   CASE_TYPE                14160 non-null  object        \n",
      " 2   CASE_TYPE_DESC           14160 non-null  object        \n",
      " 3   SUB_TYPE                 14160 non-null  object        \n",
      " 4   SUB_TYPE_DESC            14160 non-null  object        \n",
      " 5   STATUS_CODE              14160 non-null  object        \n",
      " 6   Date_Initiated           14160 non-null  datetime64[ns]\n",
      " 7   Date_Issued              14160 non-null  datetime64[ns]\n",
      " 8   TASK_CODE                14160 non-null  object        \n",
      " 9   TASK_DESC                14160 non-null  object        \n",
      " 10  Temp U&O Complete Date   1797 non-null   datetime64[ns]\n",
      " 11  Final U&O Complete Date  13580 non-null  datetime64[ns]\n",
      "dtypes: datetime64[ns](4), int64(1), object(7)\n",
      "memory usage: 1.3+ MB\n"
     ]
    }
   ],
   "source": [
    "u_o.info()"
   ]
  },
  {
   "cell_type": "code",
   "execution_count": 18,
   "id": "1766ee2a",
   "metadata": {
    "scrolled": true
   },
   "outputs": [
    {
     "name": "stdout",
     "output_type": "stream",
     "text": [
      "['CARA' 'CACA' 'CARN' 'CACR' 'CARR' 'CACH' 'CACN' 'CACJ' 'CACF' 'CACT'\n",
      " 'CARK' 'CACK' 'CARE' 'CACG' 'CACL' 'CARL' 'CARF' 'CACS' 'CARS' 'CACP'\n",
      " 'CARJ' 'CARP' 'CARH' 'CART']\n"
     ]
    }
   ],
   "source": [
    "case_types = pd.unique(sw['CASE_TYPE'])\n",
    "print(case_types)"
   ]
  },
  {
   "cell_type": "code",
   "execution_count": 36,
   "id": "5ba043b1",
   "metadata": {},
   "outputs": [
    {
     "data": {
      "text/plain": [
       "array(['CARR', 'CACN', 'CACR', 'CARN', 'CACT', 'CARA', 'CACA', 'CACF',\n",
       "       'CACJ', 'CARJ', 'CACH', 'CACL', 'CART', 'CACK', 'CARP', 'CARE',\n",
       "       'CARF', 'CARL', 'CARS', 'CARK', 'CACS', 'CACG', 'CARH', 'CACP'],\n",
       "      dtype=object)"
      ]
     },
     "execution_count": 36,
     "metadata": {},
     "output_type": "execute_result"
    }
   ],
   "source": [
    "csv_names = ['ca', 'fr', 'pl', 'pw', 'sw', 'ws', 'u_o']\n",
    "case_types = pd.unique(u_o['CASE_TYPE'])\n",
    "case_types"
   ]
  },
  {
   "cell_type": "code",
   "execution_count": 37,
   "id": "9913a1b8",
   "metadata": {},
   "outputs": [
    {
     "data": {
      "text/plain": [
       "CARN    30007\n",
       "CARA     5491\n",
       "CACR     4351\n",
       "CACN     2106\n",
       "CARR     1273\n",
       "CACT      982\n",
       "CACA      388\n",
       "CACH      364\n",
       "CACF      304\n",
       "CARS      163\n",
       "CACL      138\n",
       "CARL      133\n",
       "CACK       88\n",
       "CARK       70\n",
       "CACG       36\n",
       "CARE       35\n",
       "CARP       34\n",
       "CACS       33\n",
       "CACJ       33\n",
       "CARJ       28\n",
       "CART       23\n",
       "CARF       11\n",
       "CACP        9\n",
       "CARH        2\n",
       "Name: CASE_TYPE, dtype: int64"
      ]
     },
     "execution_count": 37,
     "metadata": {},
     "output_type": "execute_result"
    }
   ],
   "source": [
    "sw['CASE_TYPE'].value_counts()"
   ]
  },
  {
   "cell_type": "code",
   "execution_count": 38,
   "id": "abb0c3ee",
   "metadata": {},
   "outputs": [
    {
     "name": "stdout",
     "output_type": "stream",
     "text": [
      "['CARA' 'CARR' 'CARN' 'CACL' 'CACA' 'CACR' 'CACH' 'CACN' 'CACT' 'CACJ'\n",
      " 'CACK' 'CARP' 'CART' 'CACF' 'CARK' 'CARE' 'CARJ' 'CACE' 'CACG' 'CARS'\n",
      " 'CARL' 'CACS' 'CARF' 'CACP' 'CARH']\n",
      "['CARA' 'CACA' 'CACR' 'CARN' 'CACH' 'CACN' 'CACK' 'CACT' 'CARR' 'CART'\n",
      " 'CACF' 'CARE' 'CACG' 'CACL' 'CACS' 'CACJ' 'CARF' 'CARS' 'CARJ' 'CACP'\n",
      " 'CARP' 'CARK' 'CARH' 'CARL']\n",
      "['CACH' 'CACT' 'CACR' 'CACN' 'CACF' 'CARN' 'CARA' 'CACA' 'CARR' 'CACG'\n",
      " 'CACL' 'CARL' 'CACJ' 'CACK' 'CACS' 'CARK' 'CARJ' 'CARP' 'CARE' 'CART'\n",
      " 'CARS']\n",
      "['CARA' 'CACR' 'CARN' 'CACA' 'CACH' 'CACN' 'CACK' 'CACT' 'CARR' 'CARK'\n",
      " 'CACF' 'CARE' 'CARP' 'CACL' 'CARS' 'CACS' 'CARF' 'CARL' 'CACJ' 'CARJ'\n",
      " 'CACG' 'CARH' 'CART' 'CACP']\n",
      "['CARA' 'CACA' 'CARN' 'CACR' 'CARR' 'CACH' 'CACN' 'CACJ' 'CACF' 'CACT'\n",
      " 'CARK' 'CACK' 'CARE' 'CACG' 'CACL' 'CARL' 'CARF' 'CACS' 'CARS' 'CACP'\n",
      " 'CARJ' 'CARP' 'CARH' 'CART']\n",
      "['CACA' 'CACR' 'CARN' 'CACH' 'CACN' 'CACT' 'CACJ' 'CART' 'CACF' 'CARR'\n",
      " 'CARA' 'CACS' 'CARF' 'CACL' 'CARS' 'CACK' 'CACP' 'CARP' 'CACG' 'CARH'\n",
      " 'CARK' 'CARE' 'CARL']\n",
      "['CARR' 'CACN' 'CACR' 'CARN' 'CACT' 'CARA' 'CACA' 'CACF' 'CACJ' 'CARJ'\n",
      " 'CACH' 'CACL' 'CART' 'CACK' 'CARP' 'CARE' 'CARF' 'CARL' 'CARS' 'CARK'\n",
      " 'CACS' 'CACG' 'CARH' 'CACP']\n",
      "['CARR' 'CACN' 'CACR' 'CARN' 'CACT' 'CARA' 'CACA' 'CACF' 'CACJ' 'CARJ'\n",
      " 'CACH' 'CACL' 'CART' 'CACK' 'CARP' 'CARE' 'CARF' 'CARL' 'CARS' 'CARK'\n",
      " 'CACS' 'CACG' 'CARH' 'CACP']\n"
     ]
    }
   ],
   "source": [
    "csv_names = [ca, fr, pl, pw, sw, ws, u_o, yr3]\n",
    "for item in csv_names:\n",
    "    case_types = pd.unique(item['CASE_TYPE'])\n",
    "    print(case_types)"
   ]
  },
  {
   "cell_type": "code",
   "execution_count": 39,
   "id": "c80b170a",
   "metadata": {},
   "outputs": [],
   "source": [
    "sw.rename(columns = {'PERMIT #': 'permit_id'}, inplace = True)"
   ]
  },
  {
   "cell_type": "code",
   "execution_count": 40,
   "id": "60f32ef3",
   "metadata": {},
   "outputs": [],
   "source": [
    "sw[\"permit_id\"] = sw[\"permit_id\"].astype(\"str\")"
   ]
  },
  {
   "cell_type": "code",
   "execution_count": 41,
   "id": "7d6d3121",
   "metadata": {},
   "outputs": [
    {
     "data": {
      "text/plain": [
       "dtype('O')"
      ]
     },
     "execution_count": 41,
     "metadata": {},
     "output_type": "execute_result"
    }
   ],
   "source": [
    "sw['permit_id'].dtype"
   ]
  },
  {
   "cell_type": "code",
   "execution_count": null,
   "id": "232b3bd9",
   "metadata": {},
   "outputs": [],
   "source": []
  }
 ],
 "metadata": {
  "kernelspec": {
   "display_name": "Python 3",
   "language": "python",
   "name": "python3"
  },
  "language_info": {
   "codemirror_mode": {
    "name": "ipython",
    "version": 3
   },
   "file_extension": ".py",
   "mimetype": "text/x-python",
   "name": "python",
   "nbconvert_exporter": "python",
   "pygments_lexer": "ipython3",
   "version": "3.8.8"
  }
 },
 "nbformat": 4,
 "nbformat_minor": 5
}
