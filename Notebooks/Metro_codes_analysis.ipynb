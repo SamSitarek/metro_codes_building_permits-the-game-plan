{
 "cells": [
  {
   "cell_type": "code",
   "execution_count": 1,
   "id": "1afacec1",
   "metadata": {},
   "outputs": [],
   "source": [
    "import pandas as pd\n",
    "import matplotlib.pyplot as plt\n",
    "import seaborn as sns\n",
    "\n",
    "#this is a python magic function to automatically show matplotlib plots\n",
    "%matplotlib inline      "
   ]
  },
  {
   "cell_type": "code",
   "execution_count": 2,
   "id": "d6a4a710",
   "metadata": {},
   "outputs": [],
   "source": [
    "convert_dict = {'CASE_TYPE': 'category',\n",
    "                'SUB_TYPE': 'category',\n",
    "                'STATUS_CODE': 'category',\n",
    "                'RESULT_CODE': 'category'\n",
    "               }"
   ]
  },
  {
   "cell_type": "code",
   "execution_count": 3,
   "id": "b4fd3cc6",
   "metadata": {},
   "outputs": [
    {
     "name": "stderr",
     "output_type": "stream",
     "text": [
      "/Applications/anaconda3/lib/python3.8/site-packages/IPython/core/interactiveshell.py:3165: DtypeWarning: Columns (0) have mixed types.Specify dtype option on import or set low_memory=False.\n",
      "  has_raised = await self.run_ast_nodes(code_ast.body, cell_name,\n"
     ]
    }
   ],
   "source": [
    "ca = pd.read_csv('../data/Initiated Building Permits (CA Tasks) 3yr.csv',\n",
    "                 parse_dates=['Date_Initiated','Date_Issued','Task_Complete_Date'], dtype=convert_dict)\n",
    "fr = pd.read_csv('../data/Initiated Building Permits (FR Tasks) 3yr.csv',\n",
    "                 parse_dates=['Date_Initiated','Date_Issued','Task_Complete_Date'], dtype=convert_dict)\n",
    "pl = pd.read_csv('../data/Initiated Building Permits (PL Tasks) 3yr.csv',\n",
    "                 parse_dates=['Date_Initiated','Date_Issued','Task_Complete_Date'], dtype=convert_dict)\n",
    "pw = pd.read_csv('../data/Initiated Building Permits (PW Tasks) 3yr.csv',\n",
    "                 parse_dates=['Date_Initiated','Date_Issued','Task_Complete_Date'], dtype=convert_dict)\n",
    "sw = pd.read_csv('../data/Initiated Building Permits (SW Tasks) 3yr.csv',\n",
    "                 parse_dates=['Date_Initiated','Date_Issued','Task_Complete_Date'], dtype=convert_dict)\n",
    "ws = pd.read_csv('../data/Initiated Building Permits (WS Tasks) 3yr.csv',\n",
    "                 parse_dates=['Date_Initiated','Date_Issued','Task_Complete_Date'], dtype=convert_dict)\n",
    "u_o = pd.read_csv('../data/Initiated Building Permits 3yr (Temp-Final U_O).csv',\n",
    "                 parse_dates=['Date_Initiated','Date_Issued','Temp U&O Complete Date','Final U&O Complete Date'], dtype=convert_dict)\n",
    "yr3 = pd.read_csv('../data/Initiated Building Permits 3yr.csv',\n",
    "                 parse_dates=['Date_Initiated','Date_Issued'], dtype=convert_dict)"
   ]
  },
  {
   "cell_type": "code",
   "execution_count": 4,
   "id": "c31ef39e",
   "metadata": {},
   "outputs": [
    {
     "name": "stdout",
     "output_type": "stream",
     "text": [
      "<class 'pandas.core.frame.DataFrame'>\n",
      "RangeIndex: 14160 entries, 0 to 14159\n",
      "Data columns (total 12 columns):\n",
      " #   Column                   Non-Null Count  Dtype         \n",
      "---  ------                   --------------  -----         \n",
      " 0   PERMIT #                 14160 non-null  int64         \n",
      " 1   CASE_TYPE                14160 non-null  category      \n",
      " 2   CASE_TYPE_DESC           14160 non-null  object        \n",
      " 3   SUB_TYPE                 14160 non-null  category      \n",
      " 4   SUB_TYPE_DESC            14160 non-null  object        \n",
      " 5   STATUS_CODE              14160 non-null  category      \n",
      " 6   Date_Initiated           14160 non-null  datetime64[ns]\n",
      " 7   Date_Issued              14160 non-null  datetime64[ns]\n",
      " 8   TASK_CODE                14160 non-null  object        \n",
      " 9   TASK_DESC                14160 non-null  object        \n",
      " 10  Temp U&O Complete Date   1797 non-null   datetime64[ns]\n",
      " 11  Final U&O Complete Date  13580 non-null  datetime64[ns]\n",
      "dtypes: category(3), datetime64[ns](4), int64(1), object(4)\n",
      "memory usage: 1.0+ MB\n"
     ]
    }
   ],
   "source": [
    "u_o.info()\n"
   ]
  },
  {
   "cell_type": "code",
   "execution_count": 19,
   "id": "7212a34f",
   "metadata": {},
   "outputs": [
    {
     "name": "stdout",
     "output_type": "stream",
     "text": [
      "['CACA', 'CARA', 'CACH', 'CACF', 'CARJ', 'CACS', 'CACN', 'CACK', 'CARE', 'CACJ', 'CARR', 'CARK', 'CACR', 'CART', 'CARH', 'CACG', 'CARS', 'CARN', 'CACL', 'CARL', 'CARP', 'CACE', 'CACP', 'CARF', 'CACT']\n"
     ]
    }
   ],
   "source": [
    "csv_names = [ca, fr, pl, pw, sw, ws,u_o, yr3]\n",
    "case_types= []\n",
    "for item in csv_names:\n",
    "    case_types.extend(item['CASE_TYPE'].unique().tolist())\n",
    "case_types = list(set(case_types))\n",
    "print(case_types)"
   ]
  },
  {
   "cell_type": "code",
   "execution_count": 20,
   "id": "69ae52ac",
   "metadata": {},
   "outputs": [
    {
     "data": {
      "text/plain": [
       "list"
      ]
     },
     "execution_count": 20,
     "metadata": {},
     "output_type": "execute_result"
    }
   ],
   "source": [
    "type(case_types)"
   ]
  },
  {
   "cell_type": "code",
   "execution_count": null,
   "id": "769005e2",
   "metadata": {},
   "outputs": [],
   "source": [
    "sw['CASE_TYPE'].value_counts()"
   ]
  },
  {
   "cell_type": "code",
   "execution_count": 72,
   "id": "e3aa5e2a",
   "metadata": {},
   "outputs": [
    {
     "data": {
      "text/html": [
       "<div>\n",
       "<style scoped>\n",
       "    .dataframe tbody tr th:only-of-type {\n",
       "        vertical-align: middle;\n",
       "    }\n",
       "\n",
       "    .dataframe tbody tr th {\n",
       "        vertical-align: top;\n",
       "    }\n",
       "\n",
       "    .dataframe thead th {\n",
       "        text-align: right;\n",
       "    }\n",
       "</style>\n",
       "<table border=\"1\" class=\"dataframe\">\n",
       "  <thead>\n",
       "    <tr style=\"text-align: right;\">\n",
       "      <th></th>\n",
       "      <th>CASE_TYPE</th>\n",
       "      <th>CASE_TYPE_DESC</th>\n",
       "      <th>DEPARTMENT</th>\n",
       "    </tr>\n",
       "  </thead>\n",
       "  <tbody>\n",
       "    <tr>\n",
       "      <th>7</th>\n",
       "      <td>CACA</td>\n",
       "      <td>Building Commercial - Addition</td>\n",
       "      <td>Codes(CA)</td>\n",
       "    </tr>\n",
       "    <tr>\n",
       "      <th>6</th>\n",
       "      <td>CACA</td>\n",
       "      <td>Building Commercial - Addition</td>\n",
       "      <td>Fire Marshal(FR)</td>\n",
       "    </tr>\n",
       "    <tr>\n",
       "      <th>8</th>\n",
       "      <td>CACA</td>\n",
       "      <td>Building Commercial - Addition</td>\n",
       "      <td>Planning(PL)</td>\n",
       "    </tr>\n",
       "    <tr>\n",
       "      <th>7</th>\n",
       "      <td>CACA</td>\n",
       "      <td>Building Commercial - Addition</td>\n",
       "      <td>Public Works(PW)</td>\n",
       "    </tr>\n",
       "    <tr>\n",
       "      <th>6</th>\n",
       "      <td>CACA</td>\n",
       "      <td>Building Commercial - Addition</td>\n",
       "      <td>Storm Water (SW)</td>\n",
       "    </tr>\n",
       "    <tr>\n",
       "      <th>...</th>\n",
       "      <td>...</td>\n",
       "      <td>...</td>\n",
       "      <td>...</td>\n",
       "    </tr>\n",
       "    <tr>\n",
       "      <th>9</th>\n",
       "      <td>CART</td>\n",
       "      <td>Building Residential - Tenant Finish Out</td>\n",
       "      <td>Fire Marshal(FR)</td>\n",
       "    </tr>\n",
       "    <tr>\n",
       "      <th>18</th>\n",
       "      <td>CART</td>\n",
       "      <td>Building Residential - Tenant Finish Out</td>\n",
       "      <td>Planning(PL)</td>\n",
       "    </tr>\n",
       "    <tr>\n",
       "      <th>14</th>\n",
       "      <td>CART</td>\n",
       "      <td>Building Residential - Tenant Finish Out</td>\n",
       "      <td>Public Works(PW)</td>\n",
       "    </tr>\n",
       "    <tr>\n",
       "      <th>20</th>\n",
       "      <td>CART</td>\n",
       "      <td>Building Residential - Tenant Finish Out</td>\n",
       "      <td>Storm Water (SW)</td>\n",
       "    </tr>\n",
       "    <tr>\n",
       "      <th>12</th>\n",
       "      <td>CART</td>\n",
       "      <td>Building Residential - Tenant Finish Out</td>\n",
       "      <td>Water Sewer(WS)</td>\n",
       "    </tr>\n",
       "  </tbody>\n",
       "</table>\n",
       "<p>141 rows × 3 columns</p>\n",
       "</div>"
      ],
      "text/plain": [
       "   CASE_TYPE                            CASE_TYPE_DESC        DEPARTMENT\n",
       "7       CACA            Building Commercial - Addition         Codes(CA)\n",
       "6       CACA            Building Commercial - Addition  Fire Marshal(FR)\n",
       "8       CACA            Building Commercial - Addition      Planning(PL)\n",
       "7       CACA            Building Commercial - Addition  Public Works(PW)\n",
       "6       CACA            Building Commercial - Addition  Storm Water (SW)\n",
       "..       ...                                       ...               ...\n",
       "9       CART  Building Residential - Tenant Finish Out  Fire Marshal(FR)\n",
       "18      CART  Building Residential - Tenant Finish Out      Planning(PL)\n",
       "14      CART  Building Residential - Tenant Finish Out  Public Works(PW)\n",
       "20      CART  Building Residential - Tenant Finish Out  Storm Water (SW)\n",
       "12      CART  Building Residential - Tenant Finish Out   Water Sewer(WS)\n",
       "\n",
       "[141 rows x 3 columns]"
      ]
     },
     "execution_count": 72,
     "metadata": {},
     "output_type": "execute_result"
    }
   ],
   "source": [
    "# department = {'ca': ['Codes(CA)', ca], \n",
    "#               'fr': ['Fire Marshal(FR)', fr], \n",
    "#               'pl': ['Planning(PL)', pl],\n",
    "#               'pw': ['Public Works(PW)', pw], \n",
    "#               'sw': ['Storm Water (SW)', sw], \n",
    "#               'ws': ['Water Sewer(WS)', ws] }\n",
    "\n",
    "department = [['Codes(CA)', ca], \n",
    "              ['Fire Marshal(FR)', fr], \n",
    "              ['Planning(PL)', pl],\n",
    "              ['Public Works(PW)', pw], \n",
    "              ['Storm Water (SW)', sw], \n",
    "              ['Water Sewer(WS)', ws] ]\n",
    "df_list = list()\n",
    "\n",
    "for a,b in department:\n",
    "    \n",
    "    ct = b[['CASE_TYPE', 'CASE_TYPE_DESC']].copy()\n",
    "    ct['DEPARTMENT'] = a\n",
    "    ct_clean = ct.value_counts().reset_index().drop(columns=[0])\n",
    "    df_list.append(ct_clean)\n",
    "ct_df = pd.concat(df_list).sort_values(by =['CASE_TYPE', 'DEPARTMENT'])\n",
    "ct_df"
   ]
  },
  {
   "cell_type": "code",
   "execution_count": 75,
   "id": "aea3efc3",
   "metadata": {},
   "outputs": [],
   "source": [
    "ct_df.to_csv('Case_Types.csv', index=False)"
   ]
  },
  {
   "cell_type": "code",
   "execution_count": null,
   "id": "b18fd237",
   "metadata": {},
   "outputs": [],
   "source": []
  },
  {
   "cell_type": "code",
   "execution_count": null,
   "id": "cc0d63d0",
   "metadata": {},
   "outputs": [],
   "source": []
  },
  {
   "cell_type": "code",
   "execution_count": null,
   "id": "020bab27",
   "metadata": {},
   "outputs": [],
   "source": []
  }
 ],
 "metadata": {
  "kernelspec": {
   "display_name": "Python 3",
   "language": "python",
   "name": "python3"
  },
  "language_info": {
   "codemirror_mode": {
    "name": "ipython",
    "version": 3
   },
   "file_extension": ".py",
   "mimetype": "text/x-python",
   "name": "python",
   "nbconvert_exporter": "python",
   "pygments_lexer": "ipython3",
   "version": "3.8.8"
  }
 },
 "nbformat": 4,
 "nbformat_minor": 5
}
